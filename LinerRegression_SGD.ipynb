{
 "cells": [
  {
   "cell_type": "code",
   "execution_count": 92,
   "metadata": {
    "colab": {},
    "colab_type": "code",
    "collapsed": true,
    "id": "REYPoTJ1Af7u"
   },
   "outputs": [],
   "source": [
    "import warnings\n",
    "warnings.filterwarnings(\"ignore\")\n",
    "from sklearn.datasets import load_boston\n",
    "from random import seed\n",
    "from random import randrange\n",
    "from csv import reader\n",
    "from math import sqrt\n",
    "from sklearn import preprocessing\n",
    "import pandas as pd\n",
    "import numpy as np\n",
    "import matplotlib.pyplot as plt\n",
    "from prettytable import PrettyTable\n",
    "from sklearn.linear_model import SGDRegressor\n",
    "from sklearn import preprocessing\n",
    "from sklearn.metrics import mean_squared_error"
   ]
  },
  {
   "cell_type": "code",
   "execution_count": 93,
   "metadata": {
    "colab": {},
    "colab_type": "code",
    "collapsed": true,
    "id": "NTQ2iH-kAwbo"
   },
   "outputs": [],
   "source": [
    "data = load_boston().data\n",
    "target_data = load_boston().target"
   ]
  },
  {
   "cell_type": "code",
   "execution_count": 94,
   "metadata": {
    "collapsed": true
   },
   "outputs": [],
   "source": [
    "boston_data = pd.DataFrame(load_boston().data,columns=load_boston().feature_names)"
   ]
  },
  {
   "cell_type": "code",
   "execution_count": 95,
   "metadata": {},
   "outputs": [
    {
     "data": {
      "text/html": [
       "<div>\n",
       "<style>\n",
       "    .dataframe thead tr:only-child th {\n",
       "        text-align: right;\n",
       "    }\n",
       "\n",
       "    .dataframe thead th {\n",
       "        text-align: left;\n",
       "    }\n",
       "\n",
       "    .dataframe tbody tr th {\n",
       "        vertical-align: top;\n",
       "    }\n",
       "</style>\n",
       "<table border=\"1\" class=\"dataframe\">\n",
       "  <thead>\n",
       "    <tr style=\"text-align: right;\">\n",
       "      <th></th>\n",
       "      <th>CRIM</th>\n",
       "      <th>ZN</th>\n",
       "      <th>INDUS</th>\n",
       "      <th>CHAS</th>\n",
       "      <th>NOX</th>\n",
       "      <th>RM</th>\n",
       "      <th>AGE</th>\n",
       "      <th>DIS</th>\n",
       "      <th>RAD</th>\n",
       "      <th>TAX</th>\n",
       "      <th>PTRATIO</th>\n",
       "      <th>B</th>\n",
       "      <th>LSTAT</th>\n",
       "    </tr>\n",
       "  </thead>\n",
       "  <tbody>\n",
       "    <tr>\n",
       "      <th>0</th>\n",
       "      <td>0.00632</td>\n",
       "      <td>18.0</td>\n",
       "      <td>2.31</td>\n",
       "      <td>0.0</td>\n",
       "      <td>0.538</td>\n",
       "      <td>6.575</td>\n",
       "      <td>65.2</td>\n",
       "      <td>4.0900</td>\n",
       "      <td>1.0</td>\n",
       "      <td>296.0</td>\n",
       "      <td>15.3</td>\n",
       "      <td>396.90</td>\n",
       "      <td>4.98</td>\n",
       "    </tr>\n",
       "    <tr>\n",
       "      <th>1</th>\n",
       "      <td>0.02731</td>\n",
       "      <td>0.0</td>\n",
       "      <td>7.07</td>\n",
       "      <td>0.0</td>\n",
       "      <td>0.469</td>\n",
       "      <td>6.421</td>\n",
       "      <td>78.9</td>\n",
       "      <td>4.9671</td>\n",
       "      <td>2.0</td>\n",
       "      <td>242.0</td>\n",
       "      <td>17.8</td>\n",
       "      <td>396.90</td>\n",
       "      <td>9.14</td>\n",
       "    </tr>\n",
       "    <tr>\n",
       "      <th>2</th>\n",
       "      <td>0.02729</td>\n",
       "      <td>0.0</td>\n",
       "      <td>7.07</td>\n",
       "      <td>0.0</td>\n",
       "      <td>0.469</td>\n",
       "      <td>7.185</td>\n",
       "      <td>61.1</td>\n",
       "      <td>4.9671</td>\n",
       "      <td>2.0</td>\n",
       "      <td>242.0</td>\n",
       "      <td>17.8</td>\n",
       "      <td>392.83</td>\n",
       "      <td>4.03</td>\n",
       "    </tr>\n",
       "    <tr>\n",
       "      <th>3</th>\n",
       "      <td>0.03237</td>\n",
       "      <td>0.0</td>\n",
       "      <td>2.18</td>\n",
       "      <td>0.0</td>\n",
       "      <td>0.458</td>\n",
       "      <td>6.998</td>\n",
       "      <td>45.8</td>\n",
       "      <td>6.0622</td>\n",
       "      <td>3.0</td>\n",
       "      <td>222.0</td>\n",
       "      <td>18.7</td>\n",
       "      <td>394.63</td>\n",
       "      <td>2.94</td>\n",
       "    </tr>\n",
       "    <tr>\n",
       "      <th>4</th>\n",
       "      <td>0.06905</td>\n",
       "      <td>0.0</td>\n",
       "      <td>2.18</td>\n",
       "      <td>0.0</td>\n",
       "      <td>0.458</td>\n",
       "      <td>7.147</td>\n",
       "      <td>54.2</td>\n",
       "      <td>6.0622</td>\n",
       "      <td>3.0</td>\n",
       "      <td>222.0</td>\n",
       "      <td>18.7</td>\n",
       "      <td>396.90</td>\n",
       "      <td>5.33</td>\n",
       "    </tr>\n",
       "  </tbody>\n",
       "</table>\n",
       "</div>"
      ],
      "text/plain": [
       "      CRIM    ZN  INDUS  CHAS    NOX     RM   AGE     DIS  RAD    TAX  \\\n",
       "0  0.00632  18.0   2.31   0.0  0.538  6.575  65.2  4.0900  1.0  296.0   \n",
       "1  0.02731   0.0   7.07   0.0  0.469  6.421  78.9  4.9671  2.0  242.0   \n",
       "2  0.02729   0.0   7.07   0.0  0.469  7.185  61.1  4.9671  2.0  242.0   \n",
       "3  0.03237   0.0   2.18   0.0  0.458  6.998  45.8  6.0622  3.0  222.0   \n",
       "4  0.06905   0.0   2.18   0.0  0.458  7.147  54.2  6.0622  3.0  222.0   \n",
       "\n",
       "   PTRATIO       B  LSTAT  \n",
       "0     15.3  396.90   4.98  \n",
       "1     17.8  396.90   9.14  \n",
       "2     17.8  392.83   4.03  \n",
       "3     18.7  394.63   2.94  \n",
       "4     18.7  396.90   5.33  "
      ]
     },
     "execution_count": 95,
     "metadata": {},
     "output_type": "execute_result"
    }
   ],
   "source": [
    "boston_data.head(5)"
   ]
  },
  {
   "cell_type": "code",
   "execution_count": 96,
   "metadata": {},
   "outputs": [
    {
     "data": {
      "text/plain": [
       "(506, 13)"
      ]
     },
     "execution_count": 96,
     "metadata": {},
     "output_type": "execute_result"
    }
   ],
   "source": [
    "boston_data.shape"
   ]
  },
  {
   "cell_type": "code",
   "execution_count": 97,
   "metadata": {},
   "outputs": [],
   "source": [
    "boston_data['PRICE'] = target_data\n",
    "\n",
    "data = boston_data.drop('PRICE', axis = 1)\n",
    "target = boston_data['PRICE']\n"
   ]
  },
  {
   "cell_type": "code",
   "execution_count": 98,
   "metadata": {
    "collapsed": true
   },
   "outputs": [],
   "source": [
    "# Data splitting\n",
    "\n",
    "from sklearn.model_selection import train_test_split\n",
    "\n",
    "# Splitting in train and test\n",
    "X_train, X_test, y_train, y_test = train_test_split(data, target_data, test_size=0.33)"
   ]
  },
  {
   "cell_type": "code",
   "execution_count": 99,
   "metadata": {
    "colab": {},
    "colab_type": "code",
    "collapsed": true,
    "id": "FgUW39s6Be0U"
   },
   "outputs": [],
   "source": [
    "# Data Standardization\n",
    "\n",
    "scaler = preprocessing.StandardScaler().fit(X_train)\n",
    "\n",
    "X_train = scaler.transform(X_train)\n",
    "X_test = scaler.transform(X_test)\n"
   ]
  },
  {
   "cell_type": "code",
   "execution_count": 100,
   "metadata": {},
   "outputs": [
    {
     "name": "stdout",
     "output_type": "stream",
     "text": [
      "(339, 13)\n",
      "(167, 13)\n",
      "(339,)\n",
      "(167,)\n"
     ]
    }
   ],
   "source": [
    "# shape of test and train data\n",
    "\n",
    "print(X_train.shape)\n",
    "print(X_test.shape)\n",
    "print(y_train.shape)\n",
    "print(y_test.shape)"
   ]
  },
  {
   "cell_type": "code",
   "execution_count": 101,
   "metadata": {},
   "outputs": [
    {
     "data": {
      "image/png": "[encoded data removed]",
      "text/plain": [
       "<Figure size 432x288 with 1 Axes>"
      ]
     },
     "metadata": {},
     "output_type": "display_data"
    }
   ],
   "source": [
    "# SGD Classifier with sklearn implementation\n",
    "# https://www.kaggle.com/premvardhan/stocasticgradientdescent-implementation-lr-python\n",
    "\n",
    "clf = SGDRegressor()\n",
    "clf.fit(X_train, y_train)\n",
    "plt.scatter(y_test, clf.predict(X_test))\n",
    "plt.grid()\n",
    "plt.xlabel('Actual Values')\n",
    "plt.ylabel('Predicted Values')\n",
    "plt.title('Scatter plot between actual and predicted values')\n",
    "plt.show()"
   ]
  },
  {
   "cell_type": "code",
   "execution_count": 102,
   "metadata": {},
   "outputs": [
    {
     "name": "stdout",
     "output_type": "stream",
     "text": [
      "Mean Squared Error after sklearn implementation : 23.191790394\n",
      "Mean Absolute Error after sklearn implementation : 3.26583123241\n"
     ]
    }
   ],
   "source": [
    "# MSE and MAE of sklearn implementation\n",
    "\n",
    "from sklearn.metrics import mean_absolute_error\n",
    "\n",
    "print('Mean Squared Error after sklearn implementation :', mean_squared_error(y_test, clf.predict(X_test)))\n",
    "print('Mean Absolute Error after sklearn implementation :', mean_absolute_error(y_test, clf.predict(X_test)))"
   ]
  },
  {
   "cell_type": "code",
   "execution_count": 103,
   "metadata": {},
   "outputs": [
    {
     "name": "stdout",
     "output_type": "stream",
     "text": [
      "Weight after sklearn implementation : [-0.52380409  0.32545145 -0.29677791  1.02042997 -0.75370784  2.65470476\n",
      "  0.05639033 -2.07758715  0.77030698 -0.44860918 -1.85116231  0.75898351\n",
      " -3.88445001]\n"
     ]
    }
   ],
   "source": [
    "# Weight of sklearn implementation\n",
    "\n",
    "print('Weight after sklearn implementation :', clf.coef_)"
   ]
  },
  {
   "cell_type": "code",
   "execution_count": 104,
   "metadata": {
    "colab": {
     "base_uri": "https://localhost:8080/",
     "height": 34
    },
    "colab_type": "code",
    "collapsed": true,
    "executionInfo": {
     "elapsed": 879,
     "status": "ok",
     "timestamp": 1545718892607,
     "user": {
      "displayName": "Applied AI Course",
      "photoUrl": "https://lh5.googleusercontent.com/-9_3A9F-kDXs/AAAAAAAAAAI/AAAAAAAAACw/IprjYvUuoXQ/s64/photo.jpg",
      "userId": "00484516897554883881"
     },
     "user_tz": -330
    },
    "id": "HNu1sXtEBBS2",
    "outputId": "a0c5d3d0-345c-4a34-8ccf-0d9f3d7d23fd"
   },
   "outputs": [],
   "source": [
    "# Defining Custom SGD Classifier\n",
    "\n",
    "# https://www.kaggle.com/arpandas65/simple-sgd-implementation-of-linear-regression\n",
    "# https://www.kaggle.com/premvardhan/stocasticgradientdescent-implementation-lr-python\n",
    "\n",
    "# SGD Regressor processor\n",
    "def CustomSGD(train_data, learning_rate=0.001, n_itr=1000, k=10):\n",
    "    \n",
    "    current_weight =np.zeros(shape=(1,train_data.shape[1]-1))      # Initializing array for weight vector\n",
    "    current_intercept = 0                                          # Initializing intercept\n",
    "    current_itr = 1                                                # intilaizing Iteration\n",
    "    \n",
    "    while(current_itr <= n_itr):                                       # Loop for all the iteration which is 1000\n",
    "        \n",
    "        old_weight = current_weight\n",
    "        old_intercept = current_intercept\n",
    "        \n",
    "        temp_weight = np.zeros(shape=(1,train_data.shape[1]-1))\n",
    "        temp_intercept = 0\n",
    "        \n",
    "        temp = train_data.sample(k)                                # create k random points data Sample from train data where k = 10                          \n",
    "        \n",
    "        y = np.array(temp['price'])                                \n",
    "        x = np.array(temp.drop('price',axis=1))                      \n",
    "        \n",
    "        for i in range(k):                                         # Loop through k random points\n",
    "            \n",
    "            temp_weight += x[i] * (y[i] - (np.dot(old_weight, x[i]) + old_intercept)) * (-2/k)  # Calculate (dl/dw = Summation of (-2x(i) * (y(i)-w(transpose)*x(i) - b)/ k\n",
    "            temp_intercept += (y[i] - (np.dot(old_weight, x[i]) + old_intercept)) * (-2/k)      # Calculate (dl/db = Summation of (-2/k) (y(i) - w(transpose)*x(i) - b)\n",
    "            \n",
    "        current_weight = old_weight - learning_rate * temp_weight                               # Calculate w(next iteration) = w(previous iteration)-r(learning rate)(dl/dw) \n",
    "        current_intercept = old_intercept - learning_rate * temp_intercept                      # Calculate b(next iteration) = b(previous iteration)-r(learning rate)(dl/db)\n",
    "        \n",
    "        if(old_weight == current_weight).all():                       # if previous and current values are same finalize w and b                 \n",
    "            \n",
    "            break\n",
    "        \n",
    "        current_itr += 1          # If previous and current values are different loop it untill we get the same value\n",
    "        \n",
    "        \n",
    "    return current_weight, current_intercept\n",
    "\n",
    "def predict(x, w, b):\n",
    "    \n",
    "    y_pred=[]\n",
    "    \n",
    "    for i in range(len(x)):                 \n",
    "        \n",
    "        y = np.asscalar(np.dot(w, x[i]) + b)\n",
    "        \n",
    "        y_pred.append(y)\n",
    "        \n",
    "    return np.array(y_pred)\n",
    "\n",
    "\n",
    "def plot(test_data, y_pred):\n",
    "    \n",
    "    #scatter plot\n",
    "    plt.scatter(test_data, y_pred)\n",
    "    plt.grid()\n",
    "    plt.title('scatter plot between actual and predicted value')\n",
    "    plt.xlabel('actual value')\n",
    "    plt.ylabel('predicted value')\n",
    "    plt.show()        \n",
    "        "
   ]
  },
  {
   "cell_type": "code",
   "execution_count": 105,
   "metadata": {
    "collapsed": true
   },
   "outputs": [],
   "source": [
    "# Data splitting for custom SGD\n",
    "\n",
    "from sklearn.model_selection import train_test_split\n",
    "\n",
    "# Splitting in train and test\n",
    "X1_train, X1_test, y1_train, y1_test = train_test_split(data, target_data, test_size=0.33)\n",
    "\n",
    "# Splitting in Train Test and Cross Validation\n",
    "X1_train, X1_cv, y1_train, y1_cv = train_test_split(X1_train, y1_train, test_size=0.33)"
   ]
  },
  {
   "cell_type": "code",
   "execution_count": 106,
   "metadata": {
    "collapsed": true
   },
   "outputs": [],
   "source": [
    "# Data Standardization for custom SGD\n",
    "X1_train = scaler.transform(X1_train)\n",
    "X1_cv=scaler.transform(X1_cv)\n",
    "\n",
    "X1_train=np.array(X1_train)\n",
    "X1_train_data=pd.DataFrame(X1_train)\n",
    "X1_train_data['price']=y1_train\n",
    "\n",
    "X1_cv_data=pd.DataFrame(X1_cv)\n",
    "X1_cv_data['price']=y1_cv\n",
    "\n",
    "y1_train_=np.array(y1_train)\n",
    "y1_cv=np.array(y1_cv)\n"
   ]
  },
  {
   "cell_type": "code",
   "execution_count": 107,
   "metadata": {
    "collapsed": true
   },
   "outputs": [],
   "source": [
    "def tuneParams_learning_rate():\n",
    "    \n",
    "    train_error = []\n",
    "    cv_error = []\n",
    "    r = [0.00001, 0.0001, 0.001, 0.01, 0.1]\n",
    "    \n",
    "    for itr in r:\n",
    "        \n",
    "        w, b = CustomSGD(X1_train_data, learning_rate = itr, n_itr = 1000)\n",
    "        y1_pred_train = predict(X1_train, w, b)\n",
    "        train_error.append(mean_squared_error(y1_train, y1_pred_train))\n",
    "        \n",
    "        w, b = CustomSGD(X1_cv_data, learning_rate = itr, n_itr = 1000)\n",
    "        y1_pred_cv = predict(X1_cv, w, b)\n",
    "        cv_error.append(mean_squared_error(y1_cv, y1_pred_cv))\n",
    "        \n",
    "    return train_error,cv_error "
   ]
  },
  {
   "cell_type": "code",
   "execution_count": 108,
   "metadata": {},
   "outputs": [],
   "source": [
    "train_error,cv_error=tuneParams_learning_rate()"
   ]
  },
  {
   "cell_type": "code",
   "execution_count": 109,
   "metadata": {},
   "outputs": [
    {
     "data": {
      "image/png": "[encoded data removed]",
      "text/plain": [
       "<Figure size 432x288 with 1 Axes>"
      ]
     },
     "metadata": {},
     "output_type": "display_data"
    }
   ],
   "source": [
    "# plotting obtained values\n",
    "\n",
    "import math\n",
    "r = [0.00001,0.0001,0.001,0.01,0.1]\n",
    "\n",
    "x1 = [math.log10(i) for i in r]\n",
    "\n",
    "plt.plot(x1,train_error,label='train Mean Squared Error ')\n",
    "plt.plot(x1,cv_error,label='CV Mean Squared Error')\n",
    "plt.scatter(x1,train_error)\n",
    "plt.scatter(x1,cv_error)\n",
    "plt.legend()\n",
    "plt.xlabel('log of learning rate')\n",
    "plt.ylabel('Mean Squared Error')\n",
    "plt.title('log(learning rate) vs MSE')\n",
    "plt.grid()\n",
    "plt.show()"
   ]
  },
  {
   "cell_type": "code",
   "execution_count": 110,
   "metadata": {},
   "outputs": [
    {
     "data": {
      "image/png": "[encoded data removed]",
      "text/plain": [
       "<Figure size 432x288 with 1 Axes>"
      ]
     },
     "metadata": {},
     "output_type": "display_data"
    }
   ],
   "source": [
    "# running implemented SGD Classifier with obtained optimal learning rate\n",
    "\n",
    "w,b = CustomSGD(X1_train_data,learning_rate=0.001,n_itr=1000)\n",
    "y_pred=predict(X1_cv, w, b)\n",
    "plot(y1_cv, y_pred)"
   ]
  },
  {
   "cell_type": "code",
   "execution_count": 111,
   "metadata": {},
   "outputs": [
    {
     "name": "stdout",
     "output_type": "stream",
     "text": [
      "Mean Squared Error after sklearn implementation : 35.5011353896\n",
      "Mean Absolute Error after sklearn implementation : 4.09106210882\n"
     ]
    }
   ],
   "source": [
    "# Errors in implemeted model\n",
    "\n",
    "print('Mean Squared Error after sklearn implementation :', mean_squared_error(y1_cv,y_pred))\n",
    "print('Mean Absolute Error after sklearn implementation :', mean_absolute_error(y1_cv,y_pred))"
   ]
  },
  {
   "cell_type": "code",
   "execution_count": 112,
   "metadata": {},
   "outputs": [
    {
     "name": "stdout",
     "output_type": "stream",
     "text": [
      "Weight after custom implementation : [[-0.25636454  0.16867572 -0.02128325  0.57903203 -0.08315041  3.04927617\n",
      "  -0.08005042 -0.86034177 -0.39381752 -1.01818641 -0.93491511  0.16190789\n",
      "  -3.29345498]]\n"
     ]
    }
   ],
   "source": [
    "# Weight of implemented model\n",
    "\n",
    "print('Weight after custom implementation :', w)\n"
   ]
  },
  {
   "cell_type": "code",
   "execution_count": 113,
   "metadata": {},
   "outputs": [
    {
     "name": "stdout",
     "output_type": "stream",
     "text": [
      "+-------------------------+--------------------+---------------------+\n",
      "| SGD Implementation type | Mean Squared Error | Mean Absolute Error |\n",
      "+-------------------------+--------------------+---------------------+\n",
      "|          Custom         |   35.5011353896    |    4.09106210882    |\n",
      "|         Sklearn         |    23.191790394    |    3.26583123241    |\n",
      "+-------------------------+--------------------+---------------------+\n"
     ]
    }
   ],
   "source": [
    "# Comparing MSE and MAE of custom and Sklearn models\n",
    "\n",
    "from prettytable import PrettyTable\n",
    "\n",
    "prettytable = PrettyTable()\n",
    "\n",
    "prettytable.field_names=['SGD Implementation type', 'Mean Squared Error','Mean Absolute Error']\n",
    "\n",
    "prettytable.add_row(['Custom', mean_squared_error(y1_cv,y_pred), mean_absolute_error(y1_cv,y_pred)])\n",
    "prettytable.add_row(['Sklearn', mean_squared_error(y_test, clf.predict(X_test)), mean_absolute_error(y_test, clf.predict(X_test))])\n",
    "    \n",
    "print(prettytable)   "
   ]
  },
  {
   "cell_type": "code",
   "execution_count": 114,
   "metadata": {},
   "outputs": [
    {
     "name": "stdout",
     "output_type": "stream",
     "text": [
      "+-------------------------+---------------------------------------------------------------------------+\n",
      "| SGD Implementation type |                               Weight Vector                               |\n",
      "+-------------------------+---------------------------------------------------------------------------+\n",
      "|          Custom         | [[-0.25636454  0.16867572 -0.02128325  0.57903203 -0.08315041  3.04927617 |\n",
      "|                         |   -0.08005042 -0.86034177 -0.39381752 -1.01818641 -0.93491511  0.16190789 |\n",
      "|                         |                                -3.29345498]]                              |\n",
      "|         Sklearn         |  [-0.52380409  0.32545145 -0.29677791  1.02042997 -0.75370784  2.65470476 |\n",
      "|                         |    0.05639033 -2.07758715  0.77030698 -0.44860918 -1.85116231  0.75898351 |\n",
      "|                         |                                -3.88445001]                               |\n",
      "+-------------------------+---------------------------------------------------------------------------+\n"
     ]
    }
   ],
   "source": [
    "# Comparing weight vector of custom and Sklearn models\n",
    "\n",
    "from prettytable import PrettyTable\n",
    "\n",
    "prettytable = PrettyTable()\n",
    "\n",
    "prettytable.field_names=['SGD Implementation type', 'Weight Vector']\n",
    "\n",
    "prettytable.add_row(['Custom', w])\n",
    "prettytable.add_row(['Sklearn', clf.coef_])\n",
    "    \n",
    "print(prettytable)   "
   ]
  },
  {
   "cell_type": "code",
   "execution_count": null,
   "metadata": {
    "collapsed": true
   },
   "outputs": [],
   "source": []
  }
 ],
 "metadata": {
  "colab": {
   "name": "Untitled3.ipynb",
   "provenance": [],
   "version": "0.3.2"
  },
  "kernelspec": {
   "display_name": "Python 3",
   "language": "python",
   "name": "python3"
  },
  "language_info": {
   "codemirror_mode": {
    "name": "ipython",
    "version": 3
   },
   "file_extension": ".py",
   "mimetype": "text/x-python",
   "name": "python",
   "nbconvert_exporter": "python",
   "pygments_lexer": "ipython3",
   "version": "3.6.2"
  }
 },
 "nbformat": 4,
 "nbformat_minor": 1
}
